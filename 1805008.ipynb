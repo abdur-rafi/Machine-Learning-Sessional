{
  "cells": [
    {
      "cell_type": "code",
      "execution_count": 41,
      "metadata": {
        "id": "62o7KnWioYy6"
      },
      "outputs": [],
      "source": [
        "import numpy as np\n",
        "import torchvision.datasets as ds\n",
        "from torchvision import transforms\n",
        "from sklearn.model_selection import train_test_split\n",
        "import matplotlib.pyplot as plt\n",
        "import numpy as np\n",
        "from sklearn.preprocessing import OneHotEncoder\n",
        "from sklearn.metrics import accuracy_score\n",
        "\n",
        "\n",
        "class Input:\n",
        "\t# input shape: (batch_size, #features)\n",
        "\t# output shape: (batch_size, #features)\n",
        "\n",
        "\tdef __init__(self, inputFeatures) -> None:\n",
        "\t\tself.inputShape = (-1, inputFeatures)\n",
        "\t\tself.outputShape = self.inputShape\n",
        "\n",
        "\tdef forward(self, x):\n",
        "\t\treturn x\n",
        "\n",
        "\tdef backward(self, gradientLossWRTOutput, _):\n",
        "\t\treturn gradientLossWRTOutput, None\n",
        "\n",
        "\n",
        "class DropOut:\n",
        "\tdef __init__(self,dropProb):\n",
        "\t\tself.dropProb = dropProb\n",
        "\n",
        "\tdef forward(self, x):\n",
        "\t\tself.mask = np.random.uniform(*x.shape) > self.dropProb\n",
        "\t\treturn np.multiply(x, self.mask)\n",
        "\n",
        "\tdef backward(self,gradientLossWRTOutput, _):\n",
        "\t\treturn np.multiply(self.mask, gradientLossWRTOutput), None\n",
        "\n",
        "\tdef initPipeline(self,inputShape,name):\n",
        "\t\tself.inputShape = inputShape\n",
        "\t\tself.outputShape = inputShape\n",
        "\t\tself.name = name\n",
        "\n",
        "class Dense:\n",
        "\t# input shape: (batch_size, #features)\n",
        "\t# output shape: (batch_size, #nodes)\n",
        "\n",
        "\tdef __init__(self, numNodes) -> None:\n",
        "\t\tself.numNodes = numNodes\n",
        "\n",
        "\t# input shape: (batch_size, #features)\n",
        "\tdef initPipeline(self, inputShape, name):\n",
        "\t\tinputFeatures = inputShape[1]\n",
        "\t\tself.features = inputFeatures\n",
        "\t\tself.name = name\n",
        "\n",
        "\t\t# self.weights = np.random.randn(self.numNodes, inputFeatures)\n",
        "\t\ta = .3\n",
        "\t\ta = np.sqrt(6 / (inputFeatures + self.numNodes))\n",
        "\n",
        "\t\tself.weights = np.random.uniform(-a, a, (self.numNodes, inputFeatures))\n",
        "\n",
        "\t\t# self.weights = np.ones((self.numNodes, inputFeatures))\n",
        "\t\t# print(self.weights.shape)\n",
        "\t\t# self.bias = np.random.randn(self.numNodes, 1)\n",
        "\t\tself.bias = np.random.uniform(-a, a, (self.numNodes, 1))\n",
        "\n",
        "\t\t# self.bias = np.ones((self.numNodes, 1))\n",
        "\t\t# print(self.bias.shape)\n",
        "\t\tself.outputShape = (-1, self.numNodes)\n",
        "\n",
        "\t# x shape: (batch_size, #features)\n",
        "\tdef forward(self, x):\n",
        "\t\tself.x = x\n",
        "\t\tself.y = np.dot(self.weights, x.T) + self.bias\n",
        "\t\tself.y = self.y.T\n",
        "\t\treturn self.y\n",
        "\n",
        "\t# gradientLossWRTOutput shape: (batch_size, #nodes)\n",
        "\n",
        "\tdef backward(self, gradientLossWRTOutput,optimizer):\n",
        "\n",
        "\t\tgradientLossWRTInput = np.dot(gradientLossWRTOutput, self.weights)\n",
        "\n",
        "\n",
        "\t\tgradientLossWRTWeights = np.dot(gradientLossWRTOutput.T, self.x)\n",
        "\t\tgradientLossWRTBias = np.sum(gradientLossWRTOutput, axis = 0, keepdims=True).T\n",
        "\n",
        "\t\t# print(f\"gradientLossWRTWeights : {gradientLossWRTWeights.shape}\")\n",
        "\t\t# print(f\"gradientLossWRTbias : {gradientLossWRTBias.shape}\")\n",
        "\n",
        "\n",
        "\t\tself.weights = optimizer.update(self.name + '-w', self.weights, gradientLossWRTWeights)\n",
        "\t\tself.bias = optimizer.update(self.name + '-b', self.bias, gradientLossWRTBias)\n",
        "\n",
        "\t\t# self.weights -= learningRate * gradientLossWRTWeights\n",
        "\t\t# self.bias -= learningRate * gradientLossWRTBias\n",
        "\n",
        "\t\treturn gradientLossWRTInput, (gradientLossWRTWeights, gradientLossWRTBias)\n",
        "\n",
        "\tdef getWeights(self):\n",
        "\t\treturn (self.weights, self.bias)\n",
        "\n",
        "\tdef addWeights(self, optimizer):\n",
        "\t\toptimizer.addWeight(self.name + '-w', self.weights)\n",
        "\t\toptimizer.addWeight(self.name + '-b', self.bias)\n",
        "\n",
        "\n",
        "class Softmax:\n",
        "\tdef __init__(self) -> None:\n",
        "\t\tpass\n",
        "\n",
        "\t# input shape: (batch_size, #features)\n",
        "\t# output shape: (batch_size, #features)\n",
        "\n",
        "\tdef initPipeline(self, inputShape, name):\n",
        "\t\tself.inputShape = inputShape\n",
        "\t\tself.outputShape = inputShape\n",
        "\t\tself.name = name\n",
        "\n",
        "\tdef forward(self, x):\n",
        "\t\tself.x = x\n",
        "\t\t# print(self.x)\n",
        "\t\t# print(np.max(self.x))\n",
        "\t\tself.y =  np.exp(x) / np.sum(np.exp(x), axis=1, keepdims=True)\n",
        "\t\treturn self.y\n",
        "\n",
        "\t# gradientLossWRTOutput shape: (batch_size, #features)\n",
        "\n",
        "\tdef backward(self, gradientLossWRTOutput, _):\n",
        "\t\t# gradientOutputWRT\n",
        "\n",
        "\t\tn , m = self.y.shape\n",
        "\n",
        "\t\tgradientOutputWRTInput = np.repeat(self.y, m, axis=0).reshape(n, m, m)\n",
        "\t\tgradientOutputWRTInput = np.multiply(gradientOutputWRTInput, np.transpose(gradientOutputWRTInput, axes=(0, 2, 1))) * -1\n",
        "\n",
        "\t\tdiagElems = np.reshape(self.y, (n,  m , 1))\n",
        "\t\tdiagElems = diagElems * (1 - diagElems)\n",
        "\t\tdiagElems = np.eye(m) * diagElems\n",
        "\t\tmask = np.eye(m, dtype=bool)\n",
        "\t\tmask = np.tile(mask, (n, 1)).reshape(n, m, m)\n",
        "\t\tgradientOutputWRTInput[mask] = 0\n",
        "\t\tgradientOutputWRTInput = gradientOutputWRTInput + diagElems\n",
        "\n",
        "\t\t# jacobian_matrix = np.zeros((n, m, m))\n",
        "\n",
        "\t\t# for i in range(n):\n",
        "\t\t# \t# s = np.exp(self.x[i]) / np.sum(np.exp(self.x[i]), axis=1, keepdims=True)\n",
        "\t\t# \ts = self.y[i]\n",
        "\t\t# \tfor j in range(n):\n",
        "\t\t# \t\tfor k in range(n):\n",
        "\t\t# \t\t\tjacobian_matrix[i, j, k] = s[j] * (int(j == k) - s[k])\n",
        "\n",
        "\n",
        "\t\t# print(np.isclose(jacobian_matrix, gradientOutputWRTInput).all())\n",
        "\t\t# print(f\"gradientLossWRTOutput : {np.expand_dims(gradientLossWRTOutput, -1).shape}\")\n",
        "\n",
        "\n",
        "\t\tgradientLossWRTInput = np.matmul(gradientOutputWRTInput, np.expand_dims(gradientLossWRTOutput, -1))\n",
        "\t\tgradientLossWRTInput = np.squeeze(gradientLossWRTInput)\n",
        "\n",
        "\t\t# print(f\"gradientLossWRTInput : {gradientLossWRTInput.shape}\")\n",
        "\n",
        "\t\treturn gradientLossWRTInput, None\n",
        "\n",
        "\n",
        "class Relu:\n",
        "\n",
        "\tdef __init__(self) -> None:\n",
        "\t\tpass\n",
        "\n",
        "\tdef initPipeline(self, inputShape,name):\n",
        "\t\tself.inputShape = inputShape\n",
        "\t\tself.outputShape = inputShape\n",
        "\t\tself.name = name\n",
        "\n",
        "\tdef forward(self, x):\n",
        "\t\tself.x = x\n",
        "\t\tself.y = np.maximum(x, 0)\n",
        "\t\treturn self.y\n",
        "\n",
        "\t# gradientLossWRTOutput shape: (batch_size, #features)\n",
        "\tdef backward(self, gradientLossWRTOutput, _):\n",
        "\t\tgradientOutputWRTInput = np.where(self.x > 0, 1, 0)\n",
        "\t\tgradientLossWRTInput = np.multiply(gradientOutputWRTInput, gradientLossWRTOutput)\n",
        "\t\treturn gradientLossWRTInput, None\n",
        "\n",
        "\n",
        "\n",
        "class Model:\n",
        "\tEPSILON = .000001\n",
        "\tdef __init__(self, *layers) -> None:\n",
        "\t\tself.nLayers = len(layers)\n",
        "\n",
        "\t\tfor i in range(1, self.nLayers):\n",
        "\t\t\tlayers[i].initPipeline(layers[i-1].outputShape, f\"layer-{i}\")\n",
        "\n",
        "\t\tself.layers = layers\n",
        "\n",
        "\tdef forward(self, x):\n",
        "\t\tfor layer in self.layers:\n",
        "\t\t\tx = layer.forward(x)\n",
        "\t\treturn x\n",
        "\n",
        "\tdef predict(self, x):\n",
        "\t\tfor layer in self.layers:\n",
        "\t\t\tif isinstance(layer, DropOut):\n",
        "\t\t\t\tcontinue\n",
        "\t\t\tx = layer.forward(x)\n",
        "\t\treturn x\n",
        "\n",
        "\tdef crossEntropyGradient(self, yTrue, yPred):\n",
        "\t\typc = yPred.copy()\n",
        "\t\typc[ypc < Model.EPSILON] = Model.EPSILON\n",
        "\t\treturn - yTrue / ypc\n",
        "\n",
        "\tdef __backprop(self,yTrue, yPred, optimizer):\n",
        "\t\tgradientLossWRTOutput = self.crossEntropyGradient(yTrue, yPred)\n",
        "\t\t# gradientLossWRTOutput = self.squaredErrorGradient(yTrue, yPred)\n",
        "\t\t# print(gradientLossWRTOutput)\n",
        "\n",
        "\t\t# print(f\"loss grad wrt yhat : {gradientLossWRTOutput.shape}\")\n",
        "\t\t# wAndg = []\n",
        "\t\tfor layer in reversed(self.layers):\n",
        "\t\t\tgradientLossWRTOutput, g = layer.backward(gradientLossWRTOutput, optimizer)\n",
        "\t\t\t# wAndg.append((layer.getWeights(), g))\n",
        "\n",
        "\n",
        "\tdef crossEntropyLoss(self, yPred, yTrue):\n",
        "\t\typc = yPred.copy()\n",
        "\t\typc[ypc < Model.EPSILON] = Model.EPSILON\n",
        "\t\treturn -np.mean(yTrue * np.log(ypc))\n",
        "\n",
        "\n",
        "\t\t# return wAndg\n",
        "\n",
        "\tdef train(self, x, y, optimizer, epoch, batchSize, callback = None):\n",
        "\n",
        "\t\tlosses = []\n",
        "\n",
        "\t\tfor layer in self.layers:\n",
        "\t\t\tif hasattr(layer, 'addWeights'):\n",
        "\t\t\t\tlayer.addWeights(optimizer)\n",
        "\n",
        "\n",
        "\t\tfor i in range(epoch):\n",
        "\t\t\tnumExa = x.shape[0]\n",
        "\n",
        "\t\t\txy = list(zip(x, y))\n",
        "\t\t\tnp.random.shuffle(xy)\n",
        "\n",
        "\t\t\tx, y = zip(*xy)\n",
        "\n",
        "\t\t\tx = np.array(x)\n",
        "\t\t\ty = np.array(y)\n",
        "\n",
        "\t\t\tnumExa = x.shape[0]\n",
        "\t\t\tnumBatches = numExa // batchSize\n",
        "\t\t\tremSamples = numExa % batchSize\n",
        "\n",
        "\n",
        "\n",
        "\t\t\txB = np.array_split(x[:numBatches * batchSize], numBatches)\n",
        "\t\t\tyB = np.array_split(y[:numBatches * batchSize], numBatches)\n",
        "\n",
        "\t\t\tif remSamples > 0:\n",
        "\t\t\t\txB.append(x[-remSamples:])\n",
        "\t\t\t\tyB.append(y[-remSamples:])\n",
        "\t\t\t\tnumBatches += 1\n",
        "\n",
        "\t\t\tfor i in range(numBatches):\n",
        "\t\t\t\txc = xB[i]\n",
        "\t\t\t\tyc = yB[i]\n",
        "\n",
        "\t\t\t\tyPred = self.forward(xc)\n",
        "\t\t\t\tself.__backprop(yc, yPred, optimizer)\n",
        "\n",
        "\t\t\t\tcloss = self.crossEntropyLoss(yc, yPred)\n",
        "\t\t\t\tlosses.append(closs)\n",
        "\t\t\t\t# print(f\"loss : {closs}\")\n",
        "\t\t\t\t# print(f\"loss : {self.crossEntropyLoss(y, self.forward(x))}\")\n",
        "\n",
        "\t\t\t\tif callback != None:\n",
        "\t\t\t\t\tcallback(self)\n",
        "\n",
        "\t\t\toptimizer.reset()\n",
        "\t\t\tprint(f\"iteration {i + 1} complete\")\n",
        "\n",
        "\t\treturn losses\n",
        "\n",
        "\n",
        "\tdef squaredErrorGradient(self, yTrue, yPred):\n",
        "\t\treturn -2 * (yTrue - yPred)\n",
        "\n",
        "\n",
        "\n",
        "\n",
        "class GradientDescent:\n",
        "\tdef __init__(self, learningRate) -> None:\n",
        "\t\tself.learningRate = learningRate\n",
        "\n",
        "\tdef addWeight(self, layerName, weight):\n",
        "\t\tpass\n",
        "\n",
        "\tdef update(self, layerName, w, g):\n",
        "\t\treturn w - self.learningRate * g\n",
        "\n",
        "\tdef reset(self):\n",
        "\t\tpass\n",
        "\n",
        "class Adam:\n",
        "\tdef __init__(self, learningRate, beta1 = .9, beta2 = .999, epsilon = 1e-6) -> None:\n",
        "\t\tself.learningRate = learningRate\n",
        "\t\tself.beta1 = beta1\n",
        "\t\tself.beta2 = beta2\n",
        "\t\tself.epsilon = epsilon\n",
        "\t\tself.vs = {}\n",
        "\t\tself.ss = {}\n",
        "\t\tself.t = 0\n",
        "\n",
        "\tdef addWeight(self, layerName, weight):\n",
        "\t\tself.vs[layerName] = np.zeros_like(weight)\n",
        "\t\tself.ss[layerName] = np.zeros_like(weight)\n",
        "\n",
        "\tdef update(self, layerName, w, g):\n",
        "\t\tself.t += 1\n",
        "\t\tv = self.vs[layerName]\n",
        "\t\ts = self.ss[layerName]\n",
        "\t\tv = self.beta1 * v + (1 - self.beta1) * g\n",
        "\t\ts = self.beta2 * s + (1 - self.beta2) * (g ** 2)\n",
        "\t\tvc = v / (1 - self.beta1 ** self.t)\n",
        "\t\tsc = s / (1 - self.beta2 ** self.t)\n",
        "\t\tself.vs[layerName] = v\n",
        "\t\tself.ss[layerName] = s\n",
        "\n",
        "\t\treturn w - self.learningRate * vc / (np.sqrt(sc) + self.epsilon)\n",
        "\n",
        "\n",
        "\n",
        "\tdef reset(self):\n",
        "\t\tfor key in self.vs:\n",
        "\t\t\tself.vs[key] = np.zeros_like(self.vs[key])\n",
        "\t\t\tself.ss[key] = np.zeros_like(self.ss[key])\n",
        "\t\tself.t = 0\n",
        "\n",
        "class Emnist:\n",
        "\tdef __init__(self, path):\n",
        "\t\tself.train = ds.EMNIST(root = path, split = 'letters', train = True, transform = transforms.ToTensor(), download = True)\n",
        "\t\tself.test = ds.EMNIST(root = path, split = 'letters', train = False, transform = transforms.ToTensor(), download = True)\n",
        "\n",
        "\tdef dataTrain(self):\n",
        "\t\treturn self.train.data.numpy(), self.train.targets.numpy()\n",
        "\n",
        "\tdef dataTest(self):\n",
        "\t\treturn self.test.data.numpy(), self.test.targets.numpy()\n",
        "\n",
        "\n",
        "\n",
        "\n"
      ]
    },
    {
      "cell_type": "code",
      "source": [
        "def eqn(x):\n",
        "\treturn 2 * (x[0] ** 2) + 3.5 * x[1] + 7\n",
        "\n",
        "\n",
        "def oneHotEncode(yTr, yTs):\n",
        "\tencoder = OneHotEncoder(sparse_output=False)\n",
        "\toneHotYtr = encoder.fit_transform(np.expand_dims(yTr, -1))\n",
        "\toneHotYts = encoder.transform(np.expand_dims(yTs, -1))\n",
        "\n",
        "\treturn oneHotYtr, oneHotYts\n",
        "\n",
        "def normalize(x):\n",
        "\treturn x / 255\n",
        "\n",
        "def flatten(x):\n",
        "\treturn np.reshape(x, (x.shape[0], -1))\n",
        "\n",
        "def getModel(numFeatures, output):\n",
        "\tmodel = Model(\n",
        "\t\t\tInput(numFeatures),\n",
        "\t\t\tDense(128),\n",
        "\t\t\tDropOut(.25),\n",
        "\t\t\tRelu(),\n",
        "\t\t\tDense(64),\n",
        "\t\t\tDropOut(.25),\n",
        "\t\t\tRelu(),\n",
        "\t\t\tDense(32),\n",
        "\t\t\tDropOut(.25),\n",
        "\t\t\tRelu(),\n",
        "\t\t\tDense(output),\n",
        "\t\t\tSoftmax()\n",
        "\t)\n",
        "\n",
        "\treturn model\n",
        "\n",
        "def acc(model, x, yTrue):\n",
        "\tyPred = model.predict(x)\n",
        "\tyPred = np.argmax(yPred, axis = 1)\n",
        "\tyTrue = np.argmax(yTrue, axis = 1)\n",
        "\treturn accuracy_score(yTrue, yPred)\n",
        "\n",
        "def plot(loss1, loss2):\n",
        "\tplt.figure(figsize=(8, 5))\n",
        "\tplt.plot(loss1,  linestyle='-', color='green', label='Training')\n",
        "\tplt.plot(loss2, linestyle='-', color='red', label='Validation')\n",
        "\tplt.title('Training')\n",
        "\tplt.xlabel('Iterations')\n",
        "\tplt.ylabel('Loss')\n",
        "\tplt.legend()\n",
        "\tplt.grid(True)\n",
        "\tplt.tight_layout()\n",
        "\tplt.show()\n",
        "\n",
        "\n",
        "def main():\n",
        "\tnp.random.seed(13)\n",
        "\tdataset = Emnist('/content/')\n",
        "\ttrX, trY = dataset.dataTrain()\n",
        "\ttsX, tsY = dataset.dataTest()\n",
        "\n",
        "\t# print(trX.shape)\n",
        "\n",
        "\ttrY, tsY = oneHotEncode(trY, tsY)\n",
        "\n",
        "\ttrX = normalize(trX)\n",
        "\ttsX = normalize(tsX)\n",
        "\n",
        "\ttrX = flatten(trX)\n",
        "\ttsX = flatten(tsX)\n",
        "\n",
        "\n",
        "\ttX, vX, tY, vY = train_test_split(trX, trY, test_size = .15, random_state = 29)\n",
        "\n",
        "\tprint(tX.shape, tY.shape)\n",
        "\tprint(vX.shape, vY.shape)\n",
        "\n",
        "\n",
        "\tmodel = getModel(tX.shape[1], tY.shape[1])\n",
        "\n",
        "\t# optimizer = GradientDescent(.0001)\n",
        "\toptimizer = Adam(.001)\n",
        "\n",
        "\tepoch = 15\n",
        "\tbatchSize = 256\n",
        "\n",
        "\tprint(tX.shape, tY.shape)\n",
        "\n",
        "\tvLosses = []\n",
        "\n",
        "\tdef callback(model):\n",
        "\t\tvLosses.append(model.crossEntropyLoss(vY,model.predict(vX)))\n",
        "\n",
        "\n",
        "\tlosses = model.train(tX, tY, optimizer, epoch, batchSize, callback)\n",
        "\n",
        "\tplot(losses, vLosses)\n",
        "\n",
        "\n",
        "\n",
        "\tprint(f\"train accuracy : {acc(model, tX, tY)}\")\n",
        "\tprint(f\"validation accuracy : {acc(model, vX, vY)}\")\n",
        "\tprint(f\"test accuracy : {acc(model, tsX, tsY)}\")\n",
        "\n",
        "\n",
        "\n",
        "\n",
        "main()"
      ],
      "metadata": {
        "colab": {
          "base_uri": "https://localhost:8080/",
          "height": 895
        },
        "id": "RzaMDdhZadMe",
        "outputId": "cd5a5297-6f4e-4597-84d0-dd58ad7a5af0"
      },
      "execution_count": 42,
      "outputs": [
        {
          "output_type": "stream",
          "name": "stdout",
          "text": [
            "(106080, 784) (106080, 26)\n",
            "(18720, 784) (18720, 26)\n",
            "(106080, 784) (106080, 26)\n",
            "iteration 415 complete\n",
            "iteration 415 complete\n",
            "iteration 415 complete\n",
            "iteration 415 complete\n",
            "iteration 415 complete\n",
            "iteration 415 complete\n",
            "iteration 415 complete\n",
            "iteration 415 complete\n",
            "iteration 415 complete\n",
            "iteration 415 complete\n",
            "iteration 415 complete\n",
            "iteration 415 complete\n",
            "iteration 415 complete\n",
            "iteration 415 complete\n",
            "iteration 415 complete\n"
          ]
        },
        {
          "output_type": "display_data",
          "data": {
            "text/plain": [
              "<Figure size 800x500 with 1 Axes>"
            ],
            "image/png": "[encoded data removed]"
          },
          "metadata": {}
        },
        {
          "output_type": "stream",
          "name": "stdout",
          "text": [
            "train accuracy : 0.9497643288084464\n",
            "validation accuracy : 0.8986111111111111\n",
            "test accuracy : 0.9015865384615385\n"
          ]
        }
      ]
    },
    {
      "cell_type": "code",
      "source": [
        "def eqn(x):\n",
        "\treturn 2 * (x[0] ** 2) + 3.5 * x[1] + 7\n",
        "\n",
        "\n",
        "def oneHotEncode(yTr, yTs):\n",
        "\tencoder = OneHotEncoder(sparse_output=False)\n",
        "\toneHotYtr = encoder.fit_transform(np.expand_dims(yTr, -1))\n",
        "\toneHotYts = encoder.transform(np.expand_dims(yTs, -1))\n",
        "\n",
        "\treturn oneHotYtr, oneHotYts\n",
        "\n",
        "def normalize(x):\n",
        "\treturn x / 255\n",
        "\n",
        "def flatten(x):\n",
        "\treturn np.reshape(x, (x.shape[0], -1))\n",
        "\n",
        "def getModel(numFeatures, output):\n",
        "\tmodel = Model(\n",
        "\t\t\tInput(numFeatures),\n",
        "\t\t\tDense(256),\n",
        "   \t\tDropOut(.25),\n",
        "\t\t\tRelu(),\n",
        "\t\t\tDense(128),\n",
        "\t\t\tDropOut(.25),\n",
        "\t\t\tRelu(),\n",
        "\t\t\tDense(64),\n",
        "\t\t\tDropOut(.25),\n",
        "\t\t\tRelu(),\n",
        "\t\t\tDense(32),\n",
        "\t\t\tDropOut(.25),\n",
        "\t\t\tRelu(),\n",
        "\t\t\tDense(output),\n",
        "\t\t\tSoftmax()\n",
        "\t)\n",
        "\n",
        "\treturn model\n",
        "\n",
        "def acc(model, x, yTrue):\n",
        "\tyPred = model.predict(x)\n",
        "\tyPred = np.argmax(yPred, axis = 1)\n",
        "\tyTrue = np.argmax(yTrue, axis = 1)\n",
        "\treturn accuracy_score(yTrue, yPred)\n",
        "\n",
        "def plot(loss1, loss2):\n",
        "\tplt.figure(figsize=(8, 5))\n",
        "\tplt.plot(loss1,  linestyle='-', color='green', label='Training')\n",
        "\tplt.plot(loss2, linestyle='-', color='red', label='Validation')\n",
        "\tplt.title('Training')\n",
        "\tplt.xlabel('Iterations')\n",
        "\tplt.ylabel('Loss')\n",
        "\tplt.legend()\n",
        "\tplt.grid(True)\n",
        "\tplt.tight_layout()\n",
        "\tplt.show()\n",
        "\n",
        "\n",
        "def main():\n",
        "\tnp.random.seed(13)\n",
        "\tdataset = Emnist('/content/')\n",
        "\ttrX, trY = dataset.dataTrain()\n",
        "\ttsX, tsY = dataset.dataTest()\n",
        "\n",
        "\t# print(trX.shape)\n",
        "\n",
        "\ttrY, tsY = oneHotEncode(trY, tsY)\n",
        "\n",
        "\ttrX = normalize(trX)\n",
        "\ttsX = normalize(tsX)\n",
        "\n",
        "\ttrX = flatten(trX)\n",
        "\ttsX = flatten(tsX)\n",
        "\n",
        "\n",
        "\ttX, vX, tY, vY = train_test_split(trX, trY, test_size = .15, random_state = 29)\n",
        "\n",
        "\tprint(tX.shape, tY.shape)\n",
        "\tprint(vX.shape, vY.shape)\n",
        "\n",
        "\n",
        "\tmodel = getModel(tX.shape[1], tY.shape[1])\n",
        "\n",
        "\t# optimizer = GradientDescent(.0001)\n",
        "\toptimizer = Adam(.001)\n",
        "\n",
        "\tepoch = 15\n",
        "\tbatchSize = 256\n",
        "\n",
        "\tprint(tX.shape, tY.shape)\n",
        "\n",
        "\tvLosses = []\n",
        "\n",
        "\tdef callback(model):\n",
        "\t\tvLosses.append(model.crossEntropyLoss(vY,model.predict(vX)))\n",
        "\n",
        "\n",
        "\tlosses = model.train(tX, tY, optimizer, epoch, batchSize, callback)\n",
        "\n",
        "\tplot(losses, vLosses)\n",
        "\n",
        "\n",
        "\n",
        "\tprint(f\"train accuracy : {acc(model, tX, tY)}\")\n",
        "\tprint(f\"validation accuracy : {acc(model, vX, vY)}\")\n",
        "\tprint(f\"test accuracy : {acc(model, tsX, tsY)}\")\n",
        "\n",
        "\n",
        "\n",
        "\n",
        "main()"
      ],
      "metadata": {
        "colab": {
          "base_uri": "https://localhost:8080/",
          "height": 895
        },
        "id": "BV39fp9baYJj",
        "outputId": "75b365e7-eb85-4cd5-d2b7-987902b7b331"
      },
      "execution_count": 43,
      "outputs": [
        {
          "output_type": "stream",
          "name": "stdout",
          "text": [
            "(106080, 784) (106080, 26)\n",
            "(18720, 784) (18720, 26)\n",
            "(106080, 784) (106080, 26)\n",
            "iteration 415 complete\n",
            "iteration 415 complete\n",
            "iteration 415 complete\n",
            "iteration 415 complete\n",
            "iteration 415 complete\n",
            "iteration 415 complete\n",
            "iteration 415 complete\n",
            "iteration 415 complete\n",
            "iteration 415 complete\n",
            "iteration 415 complete\n",
            "iteration 415 complete\n",
            "iteration 415 complete\n",
            "iteration 415 complete\n",
            "iteration 415 complete\n",
            "iteration 415 complete\n"
          ]
        },
        {
          "output_type": "display_data",
          "data": {
            "text/plain": [
              "<Figure size 800x500 with 1 Axes>"
            ],
            "image/png": "[encoded data removed]"
          },
          "metadata": {}
        },
        {
          "output_type": "stream",
          "name": "stdout",
          "text": [
            "train accuracy : 0.9625471342383107\n",
            "validation accuracy : 0.9066773504273504\n",
            "test accuracy : 0.9099519230769231\n"
          ]
        }
      ]
    },
    {
      "cell_type": "code",
      "source": [
        "\n",
        "def eqn(x):\n",
        "\treturn 2 * (x[0] ** 2) + 3.5 * x[1] + 7\n",
        "\n",
        "\n",
        "def oneHotEncode(yTr, yTs):\n",
        "\tencoder = OneHotEncoder(sparse_output=False)\n",
        "\toneHotYtr = encoder.fit_transform(np.expand_dims(yTr, -1))\n",
        "\toneHotYts = encoder.transform(np.expand_dims(yTs, -1))\n",
        "\n",
        "\treturn oneHotYtr, oneHotYts\n",
        "\n",
        "def normalize(x):\n",
        "\treturn x / 255\n",
        "\n",
        "def flatten(x):\n",
        "\treturn np.reshape(x, (x.shape[0], -1))\n",
        "\n",
        "def getModel(numFeatures, output):\n",
        "\tmodel = Model(\n",
        "\t\t\tInput(numFeatures),\n",
        "\t\t\tDense(256),\n",
        "   \t\tDropOut(.35),\n",
        "\t\t\tRelu(),\n",
        "\t\t\tDense(128),\n",
        "\t\t\tDropOut(.35),\n",
        "\t\t\tRelu(),\n",
        "\t\t\tDense(64),\n",
        "\t\t\tDropOut(.25),\n",
        "\t\t\tRelu(),\n",
        "\t\t\tDense(32),\n",
        "\t\t\tDropOut(.15),\n",
        "\t\t\tRelu(),\n",
        "\t\t\tDense(output),\n",
        "\t\t\tSoftmax()\n",
        "\t)\n",
        "\n",
        "\treturn model\n",
        "\n",
        "def acc(model, x, yTrue):\n",
        "\tyPred = model.predict(x)\n",
        "\tyPred = np.argmax(yPred, axis = 1)\n",
        "\tyTrue = np.argmax(yTrue, axis = 1)\n",
        "\treturn accuracy_score(yTrue, yPred)\n",
        "\n",
        "def plot(loss1, loss2):\n",
        "\tplt.figure(figsize=(8, 5))\n",
        "\tplt.plot(loss1,  linestyle='-', color='green', label='Training')\n",
        "\tplt.plot(loss2, linestyle='-', color='red', label='Validation')\n",
        "\tplt.title('Training')\n",
        "\tplt.xlabel('Iterations')\n",
        "\tplt.ylabel('Loss')\n",
        "\tplt.legend()\n",
        "\tplt.grid(True)\n",
        "\tplt.tight_layout()\n",
        "\tplt.show()\n",
        "\n",
        "\n",
        "def main():\n",
        "\tnp.random.seed(13)\n",
        "\tdataset = Emnist('/content/')\n",
        "\ttrX, trY = dataset.dataTrain()\n",
        "\ttsX, tsY = dataset.dataTest()\n",
        "\n",
        "\t# print(trX.shape)\n",
        "\n",
        "\ttrY, tsY = oneHotEncode(trY, tsY)\n",
        "\n",
        "\ttrX = normalize(trX)\n",
        "\ttsX = normalize(tsX)\n",
        "\n",
        "\ttrX = flatten(trX)\n",
        "\ttsX = flatten(tsX)\n",
        "\n",
        "\n",
        "\ttX, vX, tY, vY = train_test_split(trX, trY, test_size = .15, random_state = 29)\n",
        "\n",
        "\tprint(tX.shape, tY.shape)\n",
        "\tprint(vX.shape, vY.shape)\n",
        "\n",
        "\n",
        "\tmodel = getModel(tX.shape[1], tY.shape[1])\n",
        "\n",
        "\t# optimizer = GradientDescent(.0001)\n",
        "\toptimizer = Adam(.001)\n",
        "\n",
        "\tepoch = 15\n",
        "\tbatchSize = 256\n",
        "\n",
        "\tprint(tX.shape, tY.shape)\n",
        "\n",
        "\tvLosses = []\n",
        "\n",
        "\tdef callback(model):\n",
        "\t\tvLosses.append(model.crossEntropyLoss(vY,model.predict(vX)))\n",
        "\n",
        "\n",
        "\tlosses = model.train(tX, tY, optimizer, epoch, batchSize, callback)\n",
        "\n",
        "\tplot(losses, vLosses)\n",
        "\n",
        "\n",
        "\n",
        "\tprint(f\"train accuracy : {acc(model, tX, tY)}\")\n",
        "\tprint(f\"validation accuracy : {acc(model, vX, vY)}\")\n",
        "\tprint(f\"test accuracy : {acc(model, tsX, tsY)}\")\n",
        "\n",
        "\n",
        "\n",
        "\n",
        "main()"
      ],
      "metadata": {
        "colab": {
          "base_uri": "https://localhost:8080/",
          "height": 895
        },
        "id": "-CgOuqL_0al0",
        "outputId": "b38e6157-23bc-4449-83f1-e6147d2fdecb"
      },
      "execution_count": 44,
      "outputs": [
        {
          "output_type": "stream",
          "name": "stdout",
          "text": [
            "(106080, 784) (106080, 26)\n",
            "(18720, 784) (18720, 26)\n",
            "(106080, 784) (106080, 26)\n",
            "iteration 415 complete\n",
            "iteration 415 complete\n",
            "iteration 415 complete\n",
            "iteration 415 complete\n",
            "iteration 415 complete\n",
            "iteration 415 complete\n",
            "iteration 415 complete\n",
            "iteration 415 complete\n",
            "iteration 415 complete\n",
            "iteration 415 complete\n",
            "iteration 415 complete\n",
            "iteration 415 complete\n",
            "iteration 415 complete\n",
            "iteration 415 complete\n",
            "iteration 415 complete\n"
          ]
        },
        {
          "output_type": "display_data",
          "data": {
            "text/plain": [
              "<Figure size 800x500 with 1 Axes>"
            ],
            "image/png": "[encoded data removed]"
          },
          "metadata": {}
        },
        {
          "output_type": "stream",
          "name": "stdout",
          "text": [
            "train accuracy : 0.9625471342383107\n",
            "validation accuracy : 0.9066773504273504\n",
            "test accuracy : 0.9099519230769231\n"
          ]
        }
      ]
    },
    {
      "cell_type": "code",
      "source": [
        "\n",
        "def eqn(x):\n",
        "\treturn 2 * (x[0] ** 2) + 3.5 * x[1] + 7\n",
        "\n",
        "\n",
        "def oneHotEncode(yTr, yTs):\n",
        "\tencoder = OneHotEncoder(sparse_output=False)\n",
        "\toneHotYtr = encoder.fit_transform(np.expand_dims(yTr, -1))\n",
        "\toneHotYts = encoder.transform(np.expand_dims(yTs, -1))\n",
        "\n",
        "\treturn oneHotYtr, oneHotYts\n",
        "\n",
        "def normalize(x):\n",
        "\treturn x / 255\n",
        "\n",
        "def flatten(x):\n",
        "\treturn np.reshape(x, (x.shape[0], -1))\n",
        "\n",
        "def getModel(numFeatures, output):\n",
        "\tmodel = Model(\n",
        "\t\t\tInput(numFeatures),\n",
        "\t\t\tDense(32),\n",
        "\t\t\tDropOut(.25),\n",
        "\t\t\tRelu(),\n",
        "\t\t\tDense(output),\n",
        "\t\t\tSoftmax()\n",
        "\t)\n",
        "\n",
        "\treturn model\n",
        "\n",
        "def acc(model, x, yTrue):\n",
        "\tyPred = model.predict(x)\n",
        "\tyPred = np.argmax(yPred, axis = 1)\n",
        "\tyTrue = np.argmax(yTrue, axis = 1)\n",
        "\treturn accuracy_score(yTrue, yPred)\n",
        "\n",
        "def plot(loss1, loss2):\n",
        "\tplt.figure(figsize=(8, 5))\n",
        "\tplt.plot(loss1,  linestyle='-', color='green', label='Training')\n",
        "\tplt.plot(loss2, linestyle='-', color='red', label='Validation')\n",
        "\tplt.title('Training')\n",
        "\tplt.xlabel('Iterations')\n",
        "\tplt.ylabel('Loss')\n",
        "\tplt.legend()\n",
        "\tplt.grid(True)\n",
        "\tplt.tight_layout()\n",
        "\tplt.show()\n",
        "\n",
        "\n",
        "def main():\n",
        "\tnp.random.seed(13)\n",
        "\tdataset = Emnist('/content/')\n",
        "\ttrX, trY = dataset.dataTrain()\n",
        "\ttsX, tsY = dataset.dataTest()\n",
        "\n",
        "\t# print(trX.shape)\n",
        "\n",
        "\ttrY, tsY = oneHotEncode(trY, tsY)\n",
        "\n",
        "\ttrX = normalize(trX)\n",
        "\ttsX = normalize(tsX)\n",
        "\n",
        "\ttrX = flatten(trX)\n",
        "\ttsX = flatten(tsX)\n",
        "\n",
        "\n",
        "\ttX, vX, tY, vY = train_test_split(trX, trY, test_size = .15, random_state = 29)\n",
        "\n",
        "\tprint(tX.shape, tY.shape)\n",
        "\tprint(vX.shape, vY.shape)\n",
        "\n",
        "\n",
        "\tmodel = getModel(tX.shape[1], tY.shape[1])\n",
        "\n",
        "\t# optimizer = GradientDescent(.0001)\n",
        "\toptimizer = Adam(.001)\n",
        "\n",
        "\tepoch = 50\n",
        "\tbatchSize = 256\n",
        "\n",
        "\tprint(tX.shape, tY.shape)\n",
        "\n",
        "\tvLosses = []\n",
        "\n",
        "\tdef callback(model):\n",
        "\t\tvLosses.append(model.crossEntropyLoss(vY,model.predict(vX)))\n",
        "\n",
        "\n",
        "\tlosses = model.train(tX, tY, optimizer, epoch, batchSize, callback)\n",
        "\n",
        "\tplot(losses, vLosses)\n",
        "\n",
        "\n",
        "\n",
        "\tprint(f\"train accuracy : {acc(model, tX, tY)}\")\n",
        "\tprint(f\"validation accuracy : {acc(model, vX, vY)}\")\n",
        "\tprint(f\"test accuracy : {acc(model, tsX, tsY)}\")\n",
        "\n",
        "\n",
        "\n",
        "\n",
        "main()"
      ],
      "metadata": {
        "id": "lkz3BhbtCytR"
      },
      "execution_count": null,
      "outputs": []
    },
    {
      "cell_type": "code",
      "execution_count": null,
      "metadata": {
        "id": "_ixQkIqmoxoc"
      },
      "outputs": [],
      "source": [
        "train = ds.EMNIST(root = '/content/', split = 'letters', train = True, transform = transforms.ToTensor(), download = True)\n",
        "test = ds.EMNIST(root = '/content/', split = 'letters', train = False, transform = transforms.ToTensor(), download = True)"
      ]
    },
    {
      "cell_type": "code",
      "execution_count": null,
      "metadata": {
        "colab": {
          "base_uri": "https://localhost:8080/"
        },
        "id": "s5rN_s8t8UAU",
        "outputId": "acf6b369-19b9-4751-936f-0943c36e3ff2"
      },
      "outputs": [
        {
          "data": {
            "text/plain": [
              "array([[False, False],\n",
              "       [ True, False],\n",
              "       [False, False]])"
            ]
          },
          "execution_count": 41,
          "metadata": {},
          "output_type": "execute_result"
        }
      ],
      "source": [
        "x = np.array([[1, 2], [3, 4], [5, 6]])\n",
        "mask = np.random.randn(*x.shape) > .5\n",
        "mask"
      ]
    },
    {
      "cell_type": "code",
      "execution_count": null,
      "metadata": {
        "colab": {
          "base_uri": "https://localhost:8080/"
        },
        "id": "EI3IvSTKONeP",
        "outputId": "bedb23d7-d160-46c1-ef42-3ae0551d5438"
      },
      "outputs": [
        {
          "data": {
            "text/plain": [
              "torch.Size([20800, 28, 28])"
            ]
          },
          "execution_count": 293,
          "metadata": {},
          "output_type": "execute_result"
        }
      ],
      "source": [
        "test.data.shape"
      ]
    },
    {
      "cell_type": "code",
      "execution_count": null,
      "metadata": {
        "colab": {
          "base_uri": "https://localhost:8080/"
        },
        "id": "Cu2kTH6_o-dl",
        "outputId": "68bfd36d-a972-40a2-b3e0-c9f7b53bc100"
      },
      "outputs": [
        {
          "data": {
            "text/plain": [
              "Dataset EMNIST\n",
              "    Number of datapoints: 124800\n",
              "    Root location: /content/\n",
              "    Split: Train\n",
              "    StandardTransform\n",
              "Transform: ToTensor()"
            ]
          },
          "execution_count": 145,
          "metadata": {},
          "output_type": "execute_result"
        }
      ],
      "source": [
        "train"
      ]
    },
    {
      "cell_type": "code",
      "execution_count": null,
      "metadata": {
        "colab": {
          "base_uri": "https://localhost:8080/"
        },
        "id": "RNsXUAVzrrj6",
        "outputId": "d2f926ec-110b-4c7f-cfcd-708f0b6d0a5e"
      },
      "outputs": [
        {
          "data": {
            "text/plain": [
              "tensor(True)"
            ]
          },
          "execution_count": 48,
          "metadata": {},
          "output_type": "execute_result"
        }
      ],
      "source": [
        "(train.targets == 26).any()"
      ]
    },
    {
      "cell_type": "code",
      "execution_count": null,
      "metadata": {
        "colab": {
          "base_uri": "https://localhost:8080/"
        },
        "id": "I8px6fpppKJE",
        "outputId": "d99321fb-7e17-4f9b-cb8b-e6235f3a9f6f"
      },
      "outputs": [
        {
          "data": {
            "text/plain": [
              "torch.Size([124800, 28, 28])"
            ]
          },
          "execution_count": 5,
          "metadata": {},
          "output_type": "execute_result"
        }
      ],
      "source": [
        "train.data.shape"
      ]
    },
    {
      "cell_type": "code",
      "execution_count": null,
      "metadata": {
        "id": "StZ3GpaXpTDC"
      },
      "outputs": [],
      "source": [
        "train.data[0]"
      ]
    },
    {
      "cell_type": "code",
      "execution_count": null,
      "metadata": {
        "colab": {
          "base_uri": "https://localhost:8080/"
        },
        "id": "shuFhun7y8AS",
        "outputId": "d92a5dcb-c4fd-495a-b398-5e123c491578"
      },
      "outputs": [
        {
          "name": "stderr",
          "output_type": "stream",
          "text": [
            "/usr/local/lib/python3.10/dist-packages/sklearn/preprocessing/_encoders.py:868: FutureWarning: `sparse` was renamed to `sparse_output` in version 1.2 and will be removed in 1.4. `sparse_output` is ignored unless you leave `sparse` to its default value.\n",
            "  warnings.warn(\n"
          ]
        }
      ],
      "source": [
        "encoder = OneHotEncoder(sparse=False)\n",
        "oneHotEncoded = encoder.fit_transform(np.expand_dims(train.targets, -1))\n",
        "# print(one_hot_encoded.shape)"
      ]
    },
    {
      "cell_type": "code",
      "execution_count": null,
      "metadata": {
        "id": "ZHEU-jg_paSG"
      },
      "outputs": [],
      "source": [
        "tX, vX, tY, vY = train_test_split(train.data, oneHotEncoded, test_size = .15, random_state = 29)"
      ]
    },
    {
      "cell_type": "code",
      "execution_count": null,
      "metadata": {
        "colab": {
          "base_uri": "https://localhost:8080/"
        },
        "id": "cjZP1qXVr5Vt",
        "outputId": "75aecb6d-b489-4fa2-9a32-d3274952837f"
      },
      "outputs": [
        {
          "data": {
            "text/plain": [
              "torch.Size([106080, 28, 28])"
            ]
          },
          "execution_count": 285,
          "metadata": {},
          "output_type": "execute_result"
        }
      ],
      "source": [
        "tX.shape"
      ]
    },
    {
      "cell_type": "code",
      "execution_count": null,
      "metadata": {
        "colab": {
          "base_uri": "https://localhost:8080/"
        },
        "id": "NMxpiK4oyvFn",
        "outputId": "874dd152-7efd-4f3e-854e-30f33026c6f1"
      },
      "outputs": [
        {
          "data": {
            "text/plain": [
              "(106080, 26)"
            ]
          },
          "execution_count": 286,
          "metadata": {},
          "output_type": "execute_result"
        }
      ],
      "source": [
        "tY.shape"
      ]
    },
    {
      "cell_type": "code",
      "execution_count": null,
      "metadata": {
        "id": "JKIqRod-r6oL"
      },
      "outputs": [],
      "source": [
        "def plot(img):\n",
        "  plt.imshow(img, cmap = 'gray')\n",
        "  plt.show()"
      ]
    },
    {
      "cell_type": "code",
      "execution_count": null,
      "metadata": {
        "id": "j41qxAFRtYuT"
      },
      "outputs": [],
      "source": [
        "def randomPlot(x, y):\n",
        "  num_images = x.shape[0]\n",
        "  indices = np.random.choice(num_images, 16, replace=False)\n",
        "\n",
        "  # Plotting 16 random images\n",
        "  plt.figure(figsize=(8, 8))\n",
        "  for i, index in enumerate(indices, 1):\n",
        "      plt.subplot(4, 4, i)\n",
        "      plt.imshow(x[index], cmap='gray')\n",
        "      plt.title(f\"{chr(np.argmax(y[index]) + ord('a') )}\", fontsize=10)\n",
        "      plt.axis('off')\n",
        "\n",
        "  plt.tight_layout()\n",
        "  plt.show()"
      ]
    },
    {
      "cell_type": "code",
      "execution_count": null,
      "metadata": {
        "colab": {
          "base_uri": "https://localhost:8080/",
          "height": 806
        },
        "id": "7QwGB5wAtloa",
        "outputId": "03a051e4-7855-47f4-90c6-3d3da402bb80"
      },
      "outputs": [
        {
          "data": {
            "image/png": "[encoded data removed]",
            "text/plain": [
              "<Figure size 800x800 with 16 Axes>"
            ]
          },
          "metadata": {},
          "output_type": "display_data"
        }
      ],
      "source": [
        "randomPlot(tX, tY)"
      ]
    },
    {
      "cell_type": "code",
      "execution_count": null,
      "metadata": {
        "id": "qA0jNIAbHKHb"
      },
      "outputs": [],
      "source": [
        "def acc(model, x, yTrue):\n",
        "  yPred = model.predict(x)\n",
        "  yPred = np.argmax(yPred, axis = 1)\n",
        "  yTrue = np.argmax(yTrue, axis = 1)\n",
        "  return accuracy_score(yTrue, yPred)"
      ]
    },
    {
      "cell_type": "code",
      "execution_count": null,
      "metadata": {
        "id": "5gBeBHqbx2kK"
      },
      "outputs": [],
      "source": [
        "np.random.seed(13)\n",
        "x = np.copy(tX)\n",
        "y = np.copy(tY)\n",
        "\n",
        "numExamples = x.shape[0]\n",
        "x = np.reshape(x, (numExamples, -1))\n",
        "print(x.shape)\n",
        "numFeatures = x.shape[1]\n",
        "\n",
        "model = Model(\n",
        "    Input(numFeatures),\n",
        "    Dense(256),\n",
        "    Relu(),\n",
        "    Dense(128),\n",
        "    Relu(),\n",
        "    Dense(64),\n",
        "    Relu(),\n",
        "    Dense(32),\n",
        "    Relu(),\n",
        "    Dense(26),\n",
        "    Softmax()\n",
        ")\n",
        "\n",
        "\n",
        "n = x.shape[0]\n",
        "xs = x[0:n] / 255\n",
        "ys = y[0:n]\n",
        "\n",
        "print(acc(model, xs, ys))\n",
        "\n",
        "model.train(xs,ys, GradientDescent(.001), 10, 256)\n",
        "\n",
        "print(acc(model, xs, ys))"
      ]
    },
    {
      "cell_type": "code",
      "execution_count": null,
      "metadata": {
        "colab": {
          "base_uri": "https://localhost:8080/"
        },
        "id": "b115hRZFHmK2",
        "outputId": "1be94cae-2a36-4050-ac6b-8a4e2e48b9fa"
      },
      "outputs": [
        {
          "name": "stdout",
          "output_type": "stream",
          "text": [
            "0.8771901709401709\n"
          ]
        }
      ],
      "source": [
        "print(acc(model, np.reshape(vX, (vX.shape[0], -1)) / 255, vY ))"
      ]
    }
  ],
  "metadata": {
    "colab": {
      "provenance": []
    },
    "kernelspec": {
      "display_name": "Python 3",
      "language": "python",
      "name": "python3"
    },
    "language_info": {
      "name": "python",
      "version": "3.8.10"
    }
  },
  "nbformat": 4,
  "nbformat_minor": 0
}