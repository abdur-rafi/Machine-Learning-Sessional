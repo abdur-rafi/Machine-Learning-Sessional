{
  "cells": [
    {
      "cell_type": "code",
      "execution_count": null,
      "metadata": {
        "id": "62o7KnWioYy6"
      },
      "outputs": [],
      "source": [
        "import numpy as np\n",
        "\n",
        "class Input:\n",
        "\t# input shape: (batch_size, #features)\n",
        "\t# output shape: (batch_size, #features)\n",
        "\n",
        "\tdef __init__(self, inputFeatures) -> None:\n",
        "\t\tself.inputShape = (-1, inputFeatures)\n",
        "\t\tself.outputShape = self.inputShape\n",
        "\n",
        "\tdef forward(self, x):\n",
        "\t\treturn x\n",
        "\n",
        "\tdef backward(self, gradientLossWRTOutput, _):\n",
        "\t\treturn gradientLossWRTOutput, None\n",
        "\n",
        "\tdef getWeights(self):\n",
        "\t\treturn None\n",
        "\n",
        "\n",
        "\n",
        "class Dense:\n",
        "\t# input shape: (batch_size, #features)\n",
        "\t# output shape: (batch_size, #nodes)\n",
        "\n",
        "\tdef __init__(self, numNodes) -> None:\n",
        "\t\tself.numNodes = numNodes\n",
        "\n",
        "\t# input shape: (batch_size, #features)\n",
        "\tdef initPipeline(self, inputShape):\n",
        "\t\tinputFeatures = inputShape[1]\n",
        "\t\tself.features = inputFeatures\n",
        "\n",
        "\t\tself.weights = np.random.randn(self.numNodes, inputFeatures)\n",
        "\t\t# self.weights = np.ones((self.numNodes, inputFeatures))\n",
        "\t\t# print(self.weights.shape)\n",
        "\t\tself.bias = np.random.randn(self.numNodes, 1)\n",
        "\t\t# self.bias = np.ones((self.numNodes, 1))\n",
        "\t\t# print(self.bias.shape)\n",
        "\t\tself.outputShape = (-1, self.numNodes)\n",
        "\n",
        "\t# x shape: (batch_size, #features)\n",
        "\tdef forward(self, x):\n",
        "\t\tself.x = x\n",
        "\t\tself.y = np.dot(self.weights, x.T) + self.bias\n",
        "\t\tself.y = self.y.T\n",
        "\t\treturn self.y\n",
        "\n",
        "\t# gradientLossWRTOutput shape: (batch_size, #nodes)\n",
        "\n",
        "\tdef backward(self, gradientLossWRTOutput,optimizer):\n",
        "\n",
        "\t\tgradientLossWRTInput = np.dot(gradientLossWRTOutput, self.weights)\n",
        "\n",
        "\n",
        "\t\tgradientLossWRTWeights = np.dot(gradientLossWRTOutput.T, self.x)\n",
        "\t\tgradientLossWRTBias = np.sum(gradientLossWRTOutput, axis = 0, keepdims=True).T\n",
        "\n",
        "\t\t# print(f\"gradientLossWRTWeights : {gradientLossWRTWeights.shape}\")\n",
        "\t\t# print(f\"gradientLossWRTbias : {gradientLossWRTBias.shape}\")\n",
        "\n",
        "\n",
        "\t\tself.weights = optimizer.update(self.weights, gradientLossWRTWeights)\n",
        "\t\tself.bias = optimizer.update(self.bias, gradientLossWRTBias)\n",
        "\n",
        "\t\t# self.weights -= learningRate * gradientLossWRTWeights\n",
        "\t\t# self.bias -= learningRate * gradientLossWRTBias\n",
        "\n",
        "\t\treturn gradientLossWRTInput, (gradientLossWRTWeights, gradientLossWRTBias)\n",
        "\n",
        "\tdef getWeights(self):\n",
        "\t\treturn (self.weights, self.bias)\n",
        "\n",
        "\n",
        "\n",
        "class Softmax:\n",
        "\tdef __init__(self) -> None:\n",
        "\t\tpass\n",
        "\n",
        "\t# input shape: (batch_size, #features)\n",
        "\t# output shape: (batch_size, #features)\n",
        "\n",
        "\tdef initPipeline(self, inputShape):\n",
        "\t\tself.inputShape = inputShape\n",
        "\t\tself.outputShape = inputShape\n",
        "\n",
        "\tdef forward(self, x):\n",
        "\t\tself.x = x\n",
        "\t\tself.y =  np.exp(x) / np.sum(np.exp(x), axis=1, keepdims=True)\n",
        "\t\treturn self.y\n",
        "\n",
        "\t# gradientLossWRTOutput shape: (batch_size, #features)\n",
        "\n",
        "\tdef backward(self, gradientLossWRTOutput, _):\n",
        "\t\t# gradientOutputWRT\n",
        "\n",
        "\t\tn , m = self.y.shape\n",
        "\n",
        "\t\tgradientOutputWRTInput = np.repeat(self.y, m, axis=0).reshape(n, m, m)\n",
        "\t\tgradientOutputWRTInput = np.multiply(gradientOutputWRTInput, np.transpose(gradientOutputWRTInput, axes=(0, 2, 1))) * -1\n",
        "\n",
        "\t\tdiagElems = np.reshape(self.y, (n,  m , 1))\n",
        "\t\tdiagElems = diagElems * (1 - diagElems)\n",
        "\t\tdiagElems = np.eye(m) * diagElems\n",
        "\t\tmask = np.eye(m, dtype=bool)\n",
        "\t\tmask = np.tile(mask, (n, 1)).reshape(n, m, m)\n",
        "\t\tgradientOutputWRTInput[mask] = 0\n",
        "\t\tgradientOutputWRTInput = gradientOutputWRTInput + diagElems\n",
        "\n",
        "\t\t# jacobian_matrix = np.zeros((n, m, m))\n",
        "\n",
        "\t\t# for i in range(n):\n",
        "\t\t# \t# s = np.exp(self.x[i]) / np.sum(np.exp(self.x[i]), axis=1, keepdims=True)\n",
        "\t\t# \ts = self.y[i]\n",
        "\t\t# \tfor j in range(n):\n",
        "\t\t# \t\tfor k in range(n):\n",
        "\t\t# \t\t\tjacobian_matrix[i, j, k] = s[j] * (int(j == k) - s[k])\n",
        "\n",
        "\n",
        "\t\t# print(np.isclose(jacobian_matrix, gradientOutputWRTInput).all())\n",
        "\t\t# print(f\"gradientLossWRTOutput : {np.expand_dims(gradientLossWRTOutput, -1).shape}\")\n",
        "\n",
        "\n",
        "\t\tgradientLossWRTInput = np.matmul(gradientOutputWRTInput, np.expand_dims(gradientLossWRTOutput, -1))\n",
        "\t\tgradientLossWRTInput = np.squeeze(gradientLossWRTInput)\n",
        "\n",
        "\t\t# print(f\"gradientLossWRTInput : {gradientLossWRTInput.shape}\")\n",
        "\n",
        "\t\treturn gradientLossWRTInput, None\n",
        "\n",
        "\tdef getWeights(self):\n",
        "\t\treturn None\n",
        "\n",
        "\n",
        "class Relu:\n",
        "\tdef __init__(self) -> None:\n",
        "\t\tpass\n",
        "\n",
        "\tdef initPipeline(self, inputShape):\n",
        "\t\tself.inputShape = inputShape\n",
        "\t\tself.outputShape = inputShape\n",
        "\n",
        "\tdef forward(self, x):\n",
        "\t\tself.x = x\n",
        "\t\tself.y = np.maximum(x, 0)\n",
        "\t\treturn self.y\n",
        "\n",
        "\t# gradientLossWRTOutput shape: (batch_size, #features)\n",
        "\tdef backward(self, gradientLossWRTOutput, _):\n",
        "\t\tgradientOutputWRTInput = np.where(self.x > 0, 1, 0)\n",
        "\t\tgradientLossWRTInput = np.multiply(gradientOutputWRTInput, gradientLossWRTOutput)\n",
        "\t\treturn gradientLossWRTInput, None\n",
        "\n",
        "\tdef getWeights(self):\n",
        "\t\treturn None\n",
        "\n",
        "\n",
        "\n",
        "class Model:\n",
        "\tdef __init__(self, *layers) -> None:\n",
        "\t\tself.nLayers = len(layers)\n",
        "\n",
        "\t\tfor i in range(1, self.nLayers):\n",
        "\t\t\tlayers[i].initPipeline(layers[i-1].outputShape)\n",
        "\n",
        "\t\tself.layers = layers\n",
        "\n",
        "\tdef predict(self, x):\n",
        "\t\tfor layer in self.layers:\n",
        "\t\t\tx = layer.forward(x)\n",
        "\t\treturn x\n",
        "\n",
        "\tdef crossEntropyGradient(self, yTrue, yPred):\n",
        "\t\treturn - yTrue / yPred\n",
        "\n",
        "\tdef __backprop(self,yTrue, yPred, optimizer):\n",
        "\t\t# gradientLossWRTOutput = self.crossEntropyGradient(yTrue, yPred)\n",
        "\t\tgradientLossWRTOutput = self.squaredErrorGradient(yTrue, yPred)\n",
        "\n",
        "\t\t# print(f\"loss grad wrt yhat : {gradientLossWRTOutput.shape}\")\n",
        "\t\t# wAndg = []\n",
        "\n",
        "\n",
        "\t\tfor layer in reversed(self.layers):\n",
        "\t\t\tgradientLossWRTOutput, g = layer.backward(gradientLossWRTOutput, optimizer)\n",
        "\t\t\t# wAndg.append((layer.getWeights(), g))\n",
        "\n",
        "\t\t# return wAndg\n",
        "\n",
        "\tdef train(self, x, y, optimizer, epoch):\n",
        "\t\tfor i in range(epoch):\n",
        "\t\t\tyPred = self.predict(x)\n",
        "\t\t\t# loss = self.__loss(y, yPred)\n",
        "\t\t\t# print(f\"epoch {i} : {loss}\")\n",
        "\t\t\tself.__backprop(y, yPred, optimizer)\n",
        "\n",
        "\tdef squaredErrorGradient(self, yTrue, yPred):\n",
        "\t\treturn -2 * (yTrue - yPred)\n",
        "\n",
        "\n",
        "\n",
        "\n",
        "class GradientDescent:\n",
        "\tdef __init__(self, learningRate) -> None:\n",
        "\t\tself.learningRate = learningRate\n",
        "\n",
        "\tdef update(self, w, g):\n",
        "\t\treturn w - self.learningRate * g\n",
        "\n",
        "\n",
        "def eqn(x):\n",
        "\treturn 2 * (x[0] ** 2) + 3.5 * x[1] + 7\n",
        "\n",
        "def main():\n",
        "\n",
        "\txs = []\n",
        "\tys = []\n",
        "\tfor i in range(100):\n",
        "\t\tx = np.random.randn(2)\n",
        "\t\txs.append(x)\n",
        "\t\tys.append(eqn(x))\n",
        "\tx = np.vstack(xs)\n",
        "\ty = np.vstack(ys)\n",
        "\n",
        "\tprint(x.shape)\n",
        "\tprint(y.shape)\n",
        "\n",
        "\n",
        "\n",
        "\tmodel = Model(\n",
        "\t\tInput(2),\n",
        "\t\tDense(4),\n",
        "\t\tRelu(),\n",
        "\t\tDense(3),\n",
        "\t\tRelu(),\n",
        "\t\tDense(1)\n",
        "\t\t# Dense(3),\n",
        "\t\t# Dense(2),\n",
        "\t\t# Softmax()\n",
        "\t\t# Softmax()\n",
        "\t)\n",
        "\t# print(model.predict(x))\n",
        "\t# x = np.array([[1, -3], [-1, 1], [5, 6]])\n",
        "\t# y = np.array([[0, 1, 0], [1, 0, 0], [0,0, 1]])\n",
        "\t# print(x.shape)\n",
        "\t# yPred = model.predict(x)\n",
        "\t# print(f\"ypred : {yPred}\")\n",
        "\t# print(f\"yPred.shape : {yPred.shape}\")\n",
        "\txt = np.array([[.5, .36]])\n",
        "\n",
        "\t# print(model.predict(xt))\n",
        "\t# print(eqn(xt[0]))\n",
        "\n",
        "\tprint(np.sum(np.square(model.predict(x) - y)) / 100)\n",
        "\n",
        "\tmodel.train(x, y, GradientDescent(0.0001), 1000)\n",
        "\n",
        "\tprint(np.sum(np.square(model.predict(x) - y)) / 100)\n",
        "\n",
        "\n",
        "\t# print(model.predict(x))\n",
        "\n",
        "\n",
        "\tprint(model.predict(xt))\n",
        "\tprint(eqn(xt[0]))\n",
        "\t# print(model.predict(x))\n",
        "\n",
        "\n",
        "\n",
        "if __name__ == \"__main__\":\n",
        "\tmain()\n",
        "\n",
        "\n",
        "# Your initial array of shape (n, m)\n",
        "# original_array = np.array([[1, 2, 3],\n",
        "# \t\t\t\t\t\t[4, 5, 6]])\n",
        "\n",
        "# n, m = original_array.shape\n",
        "\n",
        "# # Repeat each row m times\n",
        "# repeated_rows = np.repeat(original_array, m, axis=0)\n",
        "\n",
        "# # Reshape the repeated array to (n, m, m)\n",
        "# result_array = repeated_rows.reshape(n, m, m)\n",
        "\n",
        "# # print(result_array)\n",
        "\n",
        "# # print(np.reshape(original_array, (n,  m , 1)))\n",
        "\n",
        "# diagElems = np.reshape(original_array, (n,  m , 1))\n",
        "# # diagElems = original_array\n",
        "# diagElems = diagElems * (1 - diagElems)\n",
        "# diagElems = np.eye(m) * diagElems\n",
        "# print(diagElems)\n",
        "\n",
        "# mask = np.eye(m, dtype=bool)\n",
        "# mask = np.tile(mask, (n, 1)).reshape(n, m, m)\n",
        "\n",
        "# # result_array = np.fill_diagonal(result_array, diagElems)\n",
        "# # np.fill_diagonal(result_array, 0)\n",
        "# result_array[mask] = 0\n",
        "# result_array = result_array + diagElems\n",
        "\n",
        "# print(result_array)\n",
        "# # print(diagElems)\n",
        "\n",
        "# print(np.multiply(result_array, np.transpose(result_array, axes=(0, 2, 1))))\n",
        "\n",
        "\n",
        "# print(np.multiply(result_array, np.reshape(original_array, (n, m, 1))))"
      ]
    },
    {
      "cell_type": "code",
      "source": [
        "import torchvision.datasets as ds\n",
        "from torchvision import transforms\n",
        "from sklearn.model_selection import train_test_split\n",
        "import matplotlib.pyplot as plt\n",
        "import numpy as np"
      ],
      "metadata": {
        "id": "k2ZScuBHopbw"
      },
      "execution_count": 35,
      "outputs": []
    },
    {
      "cell_type": "code",
      "source": [
        "train = ds.EMNIST(root = '/content/', split = 'letters', train = True, transform = transforms.ToTensor(), download = True)"
      ],
      "metadata": {
        "id": "_ixQkIqmoxoc",
        "outputId": "b17600a2-4c93-41fa-dfc9-48ffea4aeb6f",
        "colab": {
          "base_uri": "https://localhost:8080/"
        }
      },
      "execution_count": 2,
      "outputs": [
        {
          "output_type": "stream",
          "name": "stdout",
          "text": [
            "Downloading https://www.itl.nist.gov/iaui/vip/cs_links/EMNIST/gzip.zip to /content/EMNIST/raw/gzip.zip\n"
          ]
        },
        {
          "output_type": "stream",
          "name": "stderr",
          "text": [
            "100%|██████████| 561753746/561753746 [00:10<00:00, 51450151.91it/s]\n"
          ]
        },
        {
          "output_type": "stream",
          "name": "stdout",
          "text": [
            "Extracting /content/EMNIST/raw/gzip.zip to /content/EMNIST/raw\n"
          ]
        }
      ]
    },
    {
      "cell_type": "code",
      "source": [
        "train"
      ],
      "metadata": {
        "id": "Cu2kTH6_o-dl",
        "outputId": "adc60f7f-38bd-41e5-e3fb-e30f5b71a147",
        "colab": {
          "base_uri": "https://localhost:8080/"
        }
      },
      "execution_count": 3,
      "outputs": [
        {
          "output_type": "execute_result",
          "data": {
            "text/plain": [
              "Dataset EMNIST\n",
              "    Number of datapoints: 124800\n",
              "    Root location: /content/\n",
              "    Split: Train\n",
              "    StandardTransform\n",
              "Transform: ToTensor()"
            ]
          },
          "metadata": {},
          "execution_count": 3
        }
      ]
    },
    {
      "cell_type": "code",
      "source": [
        "(train.targets == 26).any()"
      ],
      "metadata": {
        "id": "RNsXUAVzrrj6",
        "outputId": "d2f926ec-110b-4c7f-cfcd-708f0b6d0a5e",
        "colab": {
          "base_uri": "https://localhost:8080/"
        }
      },
      "execution_count": 48,
      "outputs": [
        {
          "output_type": "execute_result",
          "data": {
            "text/plain": [
              "tensor(True)"
            ]
          },
          "metadata": {},
          "execution_count": 48
        }
      ]
    },
    {
      "cell_type": "code",
      "source": [
        "train.data.shape"
      ],
      "metadata": {
        "id": "I8px6fpppKJE",
        "outputId": "d99321fb-7e17-4f9b-cb8b-e6235f3a9f6f",
        "colab": {
          "base_uri": "https://localhost:8080/"
        }
      },
      "execution_count": 5,
      "outputs": [
        {
          "output_type": "execute_result",
          "data": {
            "text/plain": [
              "torch.Size([124800, 28, 28])"
            ]
          },
          "metadata": {},
          "execution_count": 5
        }
      ]
    },
    {
      "cell_type": "code",
      "source": [
        "train.data[0]"
      ],
      "metadata": {
        "id": "StZ3GpaXpTDC"
      },
      "execution_count": null,
      "outputs": []
    },
    {
      "cell_type": "code",
      "source": [
        "tX, vX, tY, vY = train_test_split(train.data, train.targets, test_size = .15, random_state = 29)"
      ],
      "metadata": {
        "id": "ZHEU-jg_paSG"
      },
      "execution_count": 18,
      "outputs": []
    },
    {
      "cell_type": "code",
      "source": [
        "tX.shape"
      ],
      "metadata": {
        "id": "cjZP1qXVr5Vt",
        "outputId": "0c4a0699-efdf-43d7-c0f7-800f9907937a",
        "colab": {
          "base_uri": "https://localhost:8080/"
        }
      },
      "execution_count": 19,
      "outputs": [
        {
          "output_type": "execute_result",
          "data": {
            "text/plain": [
              "torch.Size([106080, 28, 28])"
            ]
          },
          "metadata": {},
          "execution_count": 19
        }
      ]
    },
    {
      "cell_type": "code",
      "source": [
        "def plot(img):\n",
        "  plt.imshow(img, cmap = 'gray')\n",
        "  plt.show()"
      ],
      "metadata": {
        "id": "JKIqRod-r6oL"
      },
      "execution_count": 27,
      "outputs": []
    },
    {
      "cell_type": "code",
      "source": [
        "def randomPlot(x, y):\n",
        "  num_images = x.shape[0]\n",
        "  indices = np.random.choice(num_images, 16, replace=False)\n",
        "\n",
        "  # Plotting 16 random images\n",
        "  plt.figure(figsize=(8, 8))\n",
        "  for i, index in enumerate(indices, 1):\n",
        "      plt.subplot(4, 4, i)\n",
        "      plt.imshow(x[index], cmap='gray')\n",
        "      plt.title(f\"{chr(y[index] + ord('a') - 1)}\", fontsize=10)\n",
        "      plt.axis('off')\n",
        "\n",
        "  plt.tight_layout()\n",
        "  plt.show()"
      ],
      "metadata": {
        "id": "j41qxAFRtYuT"
      },
      "execution_count": 49,
      "outputs": []
    },
    {
      "cell_type": "code",
      "source": [
        "randomPlot(tX, tY)"
      ],
      "metadata": {
        "id": "7QwGB5wAtloa",
        "outputId": "46af0623-36ef-43b1-b523-a8e11ba3b341",
        "colab": {
          "base_uri": "https://localhost:8080/",
          "height": 806
        }
      },
      "execution_count": 50,
      "outputs": [
        {
          "output_type": "display_data",
          "data": {
            "text/plain": [
              "<Figure size 800x800 with 16 Axes>"
            ],
            "image/png": "[encoded data removed]"
          },
          "metadata": {}
        }
      ]
    },
    {
      "cell_type": "code",
      "source": [
        "plot(vX[19])"
      ],
      "metadata": {
        "id": "eX59KB7hsEay"
      },
      "execution_count": null,
      "outputs": []
    },
    {
      "cell_type": "code",
      "source": [],
      "metadata": {
        "id": "6_CDGbxlsF6c"
      },
      "execution_count": null,
      "outputs": []
    }
  ],
  "metadata": {
    "kernelspec": {
      "display_name": "Python 3",
      "language": "python",
      "name": "python3"
    },
    "language_info": {
      "name": "python",
      "version": "3.8.10"
    },
    "colab": {
      "provenance": []
    }
  },
  "nbformat": 4,
  "nbformat_minor": 0
}